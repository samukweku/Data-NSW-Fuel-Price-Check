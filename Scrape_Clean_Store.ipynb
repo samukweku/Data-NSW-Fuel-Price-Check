{
 "cells": [
  {
   "cell_type": "code",
   "execution_count": 1,
   "metadata": {
    "scrolled": true
   },
   "outputs": [],
   "source": [
    "import sqlite3\n",
    "from requests_html import HTMLSession\n",
    "from fnmatch import fnmatch\n",
    "from glom import glom\n",
    "from openpyxl import load_workbook\n",
    "from io import BytesIO\n",
    "from itertools import islice"
   ]
  },
  {
   "cell_type": "code",
   "execution_count": 2,
   "metadata": {},
   "outputs": [],
   "source": [
    "session = HTMLSession()\n",
    "r = session.get('https://data.nsw.gov.au/data/dataset/fuel-check')"
   ]
  },
  {
   "cell_type": "markdown",
   "metadata": {},
   "source": [
    "The links(xlsx files) are in a json file.\n",
    "<br> First step is to get the json file from the page, download it and extract all the xlsx files"
   ]
  },
  {
   "cell_type": "code",
   "execution_count": 3,
   "metadata": {},
   "outputs": [],
   "source": [
    "#copy the xpath path from the webpage\n",
    "#I used google chrome dev tools\n",
    "#right click on the relevant link, click on copy element, and select full xpath\n",
    "sel = '/html/body/div[3]/div/div[2]/div/article/div/ul/li[1]/a/@href'\n",
    "\n",
    "#access the json url\n",
    "json_link = r.html.xpath(sel)[0]\n",
    "\n",
    "#Step 3: append json link to 'https://data.nsw.gov.au' and pass again to session.get\n",
    "url = F'https://data.nsw.gov.au{json_link}'\n",
    "json_data = session.get(url).json()"
   ]
  },
  {
   "cell_type": "markdown",
   "metadata": {},
   "source": [
    "The links are in the url key.<br>\n",
    "The path to the link is : json_data -> result -> resources -> url\n",
    "<br> we'll filter urls for only those that end with 'xslx'\n",
    "<br>the filter could also be on the format key that has 'xlsx' in its value"
   ]
  },
  {
   "cell_type": "code",
   "execution_count": 4,
   "metadata": {},
   "outputs": [],
   "source": [
    "#create a specification to glom the relevant data\n",
    "#glom's documentation is pretty detailed\n",
    "spec = {'name' : ('result.resources',['name']),\n",
    "        'url':('result.resources',['url'])        \n",
    "       }\n",
    "\n",
    "#extract data\n",
    "outcome = glom(json_data,spec)\n",
    "\n",
    "#get the names to be the keys, and urls to be the values\n",
    "outcome = dict(zip(*outcome.values()))\n",
    "\n",
    "#keep only entries where the file ends with 'xlsx'\n",
    "#we'll use the fnmatch function from the fnmatch module\n",
    "pattern = '*.xlsx'\n",
    "\n",
    "urls = {key:value \n",
    "        for key,value in outcome.items()\n",
    "        if fnmatch(value,pattern)\n",
    "       }"
   ]
  },
  {
   "cell_type": "code",
   "execution_count": 5,
   "metadata": {},
   "outputs": [],
   "source": [
    "\n",
    "#connect to database\n",
    "con = sqlite3.connect('fuel_nsw_price_data.db')\n",
    "cur = con.cursor()\n",
    "\n",
    "query = f'''SELECT fuel_month_year \n",
    "           from fuel_month_year\n",
    "           ;'''\n",
    "\n",
    "cur.execute(query)\n",
    "#get current list of keys\n",
    "db_table_list = cur.fetchall()\n",
    "#get only urls that have not been downloaded\n",
    "download_keys = set(urls.keys()) - set(db[0] for db in db_table_list)\n",
    "\n",
    "def key_generator():\n",
    "    for key in download_keys:\n",
    "        yield(key,)\n",
    "\n",
    "#add urls not downloaded to database\n",
    "insert_query = f'INSERT INTO fuel_month_year (fuel_month_year) VALUES (?);'\n",
    "cur.executemany(insert_query,key_generator())\n",
    "#never forget to commit\n",
    "con.commit()\n",
    "#and cose connection\n",
    "con.close()"
   ]
  },
  {
   "cell_type": "code",
   "execution_count": 6,
   "metadata": {},
   "outputs": [],
   "source": [
    "#download list for our data\n",
    "url_download_list = [urls[key] for key in download_keys]"
   ]
  },
  {
   "cell_type": "code",
   "execution_count": 7,
   "metadata": {},
   "outputs": [],
   "source": [
    "#no transformations needed here\n",
    "#simply download and store in database\n",
    "#pandas not needed\n",
    "#plus openpyxl is faster than pandas for this task\n",
    "collection = []\n",
    "\n",
    "for xlsx_link in url_download_list:\n",
    "    #download link\n",
    "    r = session.get(xlsx_link)\n",
    "    #read it in\n",
    "    #note that they are bytes, hence the BytesIO usage\n",
    "    wb = load_workbook(BytesIO(r.content),read_only=True)\n",
    "    #initialize the first sheet\n",
    "    ws = wb.active\n",
    "    \n",
    "    #get index of header\n",
    "    index,header = next((index,value)\n",
    "                        for index,value in enumerate(ws.values)\n",
    "                        if 'ServiceStationName' in value)\n",
    "    \n",
    "    #get rest of data\n",
    "    body = list(islice(ws.values,index+1,None))\n",
    "\n",
    "   \n",
    "    #store away the data\n",
    "    collection.extend(body)"
   ]
  },
  {
   "cell_type": "code",
   "execution_count": 8,
   "metadata": {},
   "outputs": [],
   "source": [
    "#connect to database again\n",
    "con = sqlite3.connect('fuel_nsw_price_data.db')\n",
    "cur = con.cursor()\n",
    "#we have eight columns in our database table\n",
    "#and in the incoming data\n",
    "#so eight question marks to represent our data\n",
    "insert_params = ','.join(['?']*8)\n",
    "\n",
    "#list of columns\n",
    "columns_list = ','.join(['service_station_name','address','suburb','postcode','brand','fuelcode','transaction_date','price'])\n",
    "\n",
    "#query string\n",
    "insert_query = f\"INSERT INTO fuel_data({columns_list}) VALUES ({insert_params});\"\n",
    "\n",
    "#speedy multiple row insertions\n",
    "cur.executemany(insert_query, collection)\n",
    "\n",
    "#without this, the information will not be saved\n",
    "con.commit()\n",
    "\n",
    "con.close()"
   ]
  }
 ],
 "metadata": {
  "kernelspec": {
   "display_name": "Python 3.8.2 64-bit ('pydata': conda)",
   "language": "python",
   "name": "python38264bitpydatacondad270f97a6baa4bfe8a88a7c73e7404f5"
  },
  "language_info": {
   "codemirror_mode": {
    "name": "ipython",
    "version": 3
   },
   "file_extension": ".py",
   "mimetype": "text/x-python",
   "name": "python",
   "nbconvert_exporter": "python",
   "pygments_lexer": "ipython3",
   "version": "3.8.2"
  }
 },
 "nbformat": 4,
 "nbformat_minor": 4
}
